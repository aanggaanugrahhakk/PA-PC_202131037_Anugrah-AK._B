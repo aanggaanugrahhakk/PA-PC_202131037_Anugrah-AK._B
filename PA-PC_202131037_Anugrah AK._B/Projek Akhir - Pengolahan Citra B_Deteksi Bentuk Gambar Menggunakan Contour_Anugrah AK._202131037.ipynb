{
 "cells": [
  {
   "cell_type": "markdown",
   "id": "76a305bf",
   "metadata": {},
   "source": [
    "# Deteksi Bentuk Gambar Menggunakan Contour"
   ]
  },
  {
   "cell_type": "markdown",
   "id": "d3601d01",
   "metadata": {},
   "source": [
    "## Nama: Anugrah AK."
   ]
  },
  {
   "cell_type": "markdown",
   "id": "f62f51cf",
   "metadata": {},
   "source": [
    "## NIM: 202131037"
   ]
  },
  {
   "cell_type": "markdown",
   "id": "a5e153da",
   "metadata": {},
   "source": [
    "## Kelas: B"
   ]
  },
  {
   "cell_type": "markdown",
   "id": "b1830736",
   "metadata": {},
   "source": [
    "## Mata Kuliah: Pengolahan Citra"
   ]
  },
  {
   "cell_type": "markdown",
   "id": "0fc3fd18",
   "metadata": {},
   "source": [
    "### Import Library"
   ]
  },
  {
   "cell_type": "code",
   "execution_count": 1,
   "id": "5c94a782",
   "metadata": {},
   "outputs": [],
   "source": [
    "import cv2\n",
    "\n",
    "# Anugrah AK._202131037"
   ]
  },
  {
   "cell_type": "markdown",
   "id": "0862649e",
   "metadata": {},
   "source": [
    "### Membuka Gambar"
   ]
  },
  {
   "cell_type": "code",
   "execution_count": 2,
   "id": "c71172e4",
   "metadata": {},
   "outputs": [],
   "source": [
    "img = cv2.imread('objek_Anugrah AK._202131037.jpg')\n",
    "\n",
    "# Anugrah AK._202131037"
   ]
  },
  {
   "cell_type": "markdown",
   "id": "fe433657",
   "metadata": {},
   "source": [
    "### Konversi Gambar ke Grayscale"
   ]
  },
  {
   "cell_type": "code",
   "execution_count": 3,
   "id": "28219857",
   "metadata": {},
   "outputs": [],
   "source": [
    "gray = cv2.cvtColor(img, cv2.COLOR_BGR2GRAY)\n",
    "\n",
    "# Anugrah AK._202131037"
   ]
  },
  {
   "cell_type": "markdown",
   "id": "a776a44e",
   "metadata": {},
   "source": [
    "### Ambang Batas Gambar"
   ]
  },
  {
   "cell_type": "code",
   "execution_count": 4,
   "id": "3c5093ab",
   "metadata": {},
   "outputs": [],
   "source": [
    "ret, thresh = cv2.threshold(gray, 127, 255, cv2.THRESH_BINARY)\n",
    "\n",
    "# Anugrah AK._202131037"
   ]
  },
  {
   "cell_type": "markdown",
   "id": "9590f318",
   "metadata": {},
   "source": [
    "### Menemukan Contour"
   ]
  },
  {
   "cell_type": "code",
   "execution_count": 5,
   "id": "7877128e",
   "metadata": {},
   "outputs": [],
   "source": [
    "contours, hierarchy = cv2.findContours(thresh, cv2.RETR_TREE, cv2.CHAIN_APPROX_SIMPLE)\n",
    "\n",
    "# Anugrah AK._202131037"
   ]
  },
  {
   "cell_type": "markdown",
   "id": "d0a4d063",
   "metadata": {},
   "source": [
    "### Gambar Contour"
   ]
  },
  {
   "cell_type": "code",
   "execution_count": 6,
   "id": "3327b820",
   "metadata": {},
   "outputs": [
    {
     "data": {
      "text/plain": [
       "array([[[111, 118, 115],\n",
       "        [109, 116, 113],\n",
       "        [110, 117, 114],\n",
       "        ...,\n",
       "        [  0, 255,   0],\n",
       "        [  0, 255,   0],\n",
       "        [  0, 255,   0]],\n",
       "\n",
       "       [[111, 118, 115],\n",
       "        [107, 114, 111],\n",
       "        [107, 114, 111],\n",
       "        ...,\n",
       "        [  0, 255,   0],\n",
       "        [  0, 255,   0],\n",
       "        [  0, 255,   0]],\n",
       "\n",
       "       [[110, 117, 114],\n",
       "        [108, 115, 112],\n",
       "        [110, 117, 114],\n",
       "        ...,\n",
       "        [  0, 255,   0],\n",
       "        [  0, 255,   0],\n",
       "        [  0, 255,   0]],\n",
       "\n",
       "       ...,\n",
       "\n",
       "       [[113, 118, 116],\n",
       "        [115, 120, 118],\n",
       "        [116, 121, 119],\n",
       "        ...,\n",
       "        [  0, 255,   0],\n",
       "        [  0, 255,   0],\n",
       "        [  0, 255,   0]],\n",
       "\n",
       "       [[118, 123, 121],\n",
       "        [116, 121, 119],\n",
       "        [114, 119, 117],\n",
       "        ...,\n",
       "        [  0, 255,   0],\n",
       "        [  0, 255,   0],\n",
       "        [  0, 255,   0]],\n",
       "\n",
       "       [[118, 123, 121],\n",
       "        [116, 121, 119],\n",
       "        [114, 119, 117],\n",
       "        ...,\n",
       "        [  0, 255,   0],\n",
       "        [  0, 255,   0],\n",
       "        [  0, 255,   0]]], dtype=uint8)"
      ]
     },
     "execution_count": 6,
     "metadata": {},
     "output_type": "execute_result"
    }
   ],
   "source": [
    "cv2.drawContours(img, contours, -1, (0, 255, 0), 3)\n",
    "\n",
    "# Anugrah AK._202131037"
   ]
  },
  {
   "cell_type": "markdown",
   "id": "0bc4461c",
   "metadata": {},
   "source": [
    "### Menampilkan Gambar"
   ]
  },
  {
   "cell_type": "code",
   "execution_count": null,
   "id": "8f7940a0",
   "metadata": {},
   "outputs": [],
   "source": [
    "cv2.imshow('Image', img)\n",
    "cv2.waitKey(0)\n",
    "cv2.destroyAllWindows()\n",
    "\n",
    "# Anugrah AK._202131037"
   ]
  },
  {
   "cell_type": "code",
   "execution_count": null,
   "id": "8c60606f",
   "metadata": {},
   "outputs": [],
   "source": []
  }
 ],
 "metadata": {
  "kernelspec": {
   "display_name": "Python 3 (ipykernel)",
   "language": "python",
   "name": "python3"
  },
  "language_info": {
   "codemirror_mode": {
    "name": "ipython",
    "version": 3
   },
   "file_extension": ".py",
   "mimetype": "text/x-python",
   "name": "python",
   "nbconvert_exporter": "python",
   "pygments_lexer": "ipython3",
   "version": "3.10.9"
  }
 },
 "nbformat": 4,
 "nbformat_minor": 5
}
